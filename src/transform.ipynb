{
 "cells": [
  {
   "cell_type": "markdown",
   "metadata": {},
   "source": [
    "# Transformação dataset\n",
    "\n",
    "Transformação de dataset EEG em txt para um arquivo .npy"
   ]
  },
  {
   "cell_type": "code",
   "execution_count": 1,
   "metadata": {},
   "outputs": [
    {
     "name": "stdout",
     "output_type": "stream",
     "text": [
      "(298002, 8)\n",
      "(2, 8)\n",
      "(209003, 8)\n",
      "(506507, 8)\n"
     ]
    }
   ],
   "source": [
    "import numpy as np \n",
    "\n",
    "file1 = '../dataset/s5/OpenBCI-RAW-2023-09-26_18-50-25.txt'\n",
    "file2 = '../dataset/s5/OpenBCI-RAW-2023-10-09_19-30-23.txt'\n",
    "file3 = '../dataset/s5/OpenBCI-RAW-2023-11-06_19-56-20.txt'\n",
    "\n",
    "data1 = np.loadtxt(file1, dtype=float, delimiter=',',skiprows=5, usecols=range(1,9))\n",
    "print(data1.shape)\n",
    "\n",
    "data2 = np.loadtxt(file2, dtype=float, delimiter=',',skiprows=5, usecols=range(1,9))\n",
    "print(data2.shape)\n",
    "\n",
    "data3 = np.loadtxt(file3, dtype=float, delimiter=',',skiprows=5, usecols=range(1,9))\n",
    "print(data3.shape)\n",
    "\n",
    "data = np.concatenate((data1[500:,:], data2, data3), axis=0)\n",
    "print(data.shape)\n",
    "\n",
    "np.save('../dataset/s5/data.npy',data)"
   ]
  },
  {
   "cell_type": "markdown",
   "metadata": {},
   "source": [
    "**Tarefa 1** analisar os N txt (arquivos OpenBCI) verificando a necessidade de remover dados do inicio e do fim de cada um deles (remoção de picos). Importe realizar uma pré-vizualição rápida (dentro do openBCI GUI) para remover possíveis ocorrencias no meio do sinal\n",
    "\n",
    "**TAREFA 2** concatenar todos os txt resultantes, salvando em um único arquivo dataset .npy"
   ]
  }
 ],
 "metadata": {
  "kernelspec": {
   "display_name": "local",
   "language": "python",
   "name": "python3"
  },
  "language_info": {
   "codemirror_mode": {
    "name": "ipython",
    "version": 3
   },
   "file_extension": ".py",
   "mimetype": "text/x-python",
   "name": "python",
   "nbconvert_exporter": "python",
   "pygments_lexer": "ipython3",
   "version": "3.10.12"
  }
 },
 "nbformat": 4,
 "nbformat_minor": 2
}
