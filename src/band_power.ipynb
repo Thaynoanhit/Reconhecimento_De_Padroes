{
 "cells": [
  {
   "cell_type": "code",
   "execution_count": 7,
   "metadata": {},
   "outputs": [],
   "source": [
    "from scipy.signal import welch\n",
    "import mne"
   ]
  },
  {
   "cell_type": "code",
   "execution_count": 8,
   "metadata": {},
   "outputs": [
    {
     "name": "stdout",
     "output_type": "stream",
     "text": [
      "Opening raw data file ../data_filtered.fif...\n",
      "    Range : 0 ... 506504 =      0.000 ...  2026.016 secs\n",
      "Ready.\n",
      "Número de elementos selecionados para theta: 2\n"
     ]
    },
    {
     "name": "stderr",
     "output_type": "stream",
     "text": [
      "/tmp/ipykernel_6532/369127657.py:5: RuntimeWarning: This filename (../data_filtered.fif) does not conform to MNE naming conventions. All raw files should end with raw.fif, raw_sss.fif, raw_tsss.fif, _meg.fif, _eeg.fif, _ieeg.fif, raw.fif.gz, raw_sss.fif.gz, raw_tsss.fif.gz, _meg.fif.gz, _eeg.fif.gz or _ieeg.fif.gz\n",
      "  mne_data = mne.io.read_raw_fif('../data_filtered.fif')\n"
     ]
    },
    {
     "ename": "IndexError",
     "evalue": "boolean index did not match indexed array along dimension 0; dimension is 8 but corresponding boolean dimension is 33",
     "output_type": "error",
     "traceback": [
      "\u001b[0;31m---------------------------------------------------------------------------\u001b[0m",
      "\u001b[0;31mIndexError\u001b[0m                                Traceback (most recent call last)",
      "Cell \u001b[0;32mIn[8], line 29\u001b[0m\n\u001b[1;32m     27\u001b[0m \u001b[38;5;66;03m# Calcular a potência média dentro da banda atual\u001b[39;00m\n\u001b[1;32m     28\u001b[0m \u001b[38;5;28;01mif\u001b[39;00m \u001b[38;5;28msum\u001b[39m(freq_idx) \u001b[38;5;241m>\u001b[39m \u001b[38;5;241m0\u001b[39m:\n\u001b[0;32m---> 29\u001b[0m     band_power[band] \u001b[38;5;241m=\u001b[39m \u001b[43mpsd\u001b[49m\u001b[43m[\u001b[49m\u001b[43mfreq_idx\u001b[49m\u001b[43m]\u001b[49m\u001b[38;5;241m.\u001b[39mmean()\n\u001b[1;32m     30\u001b[0m \u001b[38;5;28;01melse\u001b[39;00m:\n\u001b[1;32m     31\u001b[0m     \u001b[38;5;28mprint\u001b[39m(\u001b[38;5;124mf\u001b[39m\u001b[38;5;124m\"\u001b[39m\u001b[38;5;124mAdvertência: Nenhum elemento selecionado para \u001b[39m\u001b[38;5;132;01m{\u001b[39;00mband\u001b[38;5;132;01m}\u001b[39;00m\u001b[38;5;124m. Verifique os limites da banda ou ignore esta banda.\u001b[39m\u001b[38;5;124m\"\u001b[39m)\n",
      "\u001b[0;31mIndexError\u001b[0m: boolean index did not match indexed array along dimension 0; dimension is 8 but corresponding boolean dimension is 33"
     ]
    }
   ],
   "source": [
    "import mne\n",
    "from scipy.signal import welch\n",
    "\n",
    "# Carregar os dados\n",
    "mne_data = mne.io.read_raw_fif('../data_filtered.fif')\n",
    "\n",
    "# Loop para variar tmin e tmax até o final do sinal\n",
    "data = mne_data.get_data(tmin=0, tmax=5)\n",
    "freqs, psd = welch(data, fs=mne_data.info['sfreq'], nperseg=64, noverlap=32)\n",
    "\n",
    "# Definir limites das bandas com base nas frequências disponíveis\n",
    "theta = (3, 8)   # Ampliar a banda theta\n",
    "alpha = (8, 14)  # Ampliar a banda alpha\n",
    "beta = (14, 30)  # Ampliar a banda beta\n",
    "gamma = (30, 100)\n",
    "\n",
    "band_power = dict()\n",
    "\n",
    "# Loop sobre cada banda de frequência\n",
    "for band, (low, high) in zip(('theta', 'alpha', 'beta', 'gamma'), (theta, alpha, beta, gamma)):\n",
    "    # Ajustar os limites da banda para incluir o limite superior\n",
    "    freq_idx = (freqs >= low) & (freqs <= high)\n",
    "    \n",
    "    # Verificar o número de elementos selecionados por freq_idx\n",
    "    print(f\"Número de elementos selecionados para {band}: {sum(freq_idx)}\")\n",
    "    \n",
    "    # Calcular a potência média dentro da banda atual\n",
    "    if sum(freq_idx) > 0:\n",
    "        band_power[band] = psd[freq_idx].mean()\n",
    "    else:\n",
    "        print(f\"Advertência: Nenhum elemento selecionado para {band}. Verifique os limites da banda ou ignore esta banda.\")\n",
    "\n",
    "# Imprimir as potências calculadas para cada banda\n",
    "print(band_power)\n",
    "\n",
    "# Identificar a banda mais ativa, se houver bandas válidas\n",
    "if band_power:\n",
    "    banda_mais_ativa = max(band_power, key=band_power.get)\n",
    "    print(f\"A banda mais ativa é: {banda_mais_ativa}\")\n",
    "else:\n",
    "    print(\"Não há bandas válidas com frequências correspondentes.\")\n",
    "\n",
    "\n"
   ]
  }
 ],
 "metadata": {
  "kernelspec": {
   "display_name": "venv",
   "language": "python",
   "name": "python3"
  },
  "language_info": {
   "codemirror_mode": {
    "name": "ipython",
    "version": 3
   },
   "file_extension": ".py",
   "mimetype": "text/x-python",
   "name": "python",
   "nbconvert_exporter": "python",
   "pygments_lexer": "ipython3",
   "version": "3.10.12"
  }
 },
 "nbformat": 4,
 "nbformat_minor": 2
}
