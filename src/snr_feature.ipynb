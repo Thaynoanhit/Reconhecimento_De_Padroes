{
 "cells": [
  {
   "cell_type": "markdown",
   "metadata": {},
   "source": [
    "# Extração da característica de relação sinal-ruído de dados de EEG\n",
    "\n",
    "A ideia é utilizar dados fictícios de ruído e sinal \"bom\"., para criarmos a relação dos dois sinais e obter como resultado um sinal de interesse \"limpo\".\n",
    "\n",
    "A partir deste sinal, podemos no contexto de caracterização de foco, ainda extrair os rítmos cerebrais ou então classificar sinais com a presença ou não de foco, de forma que as amostras de sinais extraídas de um buffer sejam rotuladas com com a presença ou não de foco.\n",
    "\n",
    "Esta atividade pode ser realizada em conjunto com um classificador comumente utilizado, como é o caso do SVM. Neste caso, uma porcetagem das amostras são utilizadas para treino e o restante para teste (p.e. 30 e 70% respectivamente)."
   ]
  },
  {
   "cell_type": "code",
   "execution_count": 1,
   "metadata": {},
   "outputs": [],
   "source": [
    "# Criando dados fictícios\n",
    "# pensando em um vídeo de 10 minutos, com uma taxa de amostragem de 250 Hz\n",
    "#   teremos 10 * 60 * 250 = 150.000 amostras (sinal com foco)\n",
    "#   teremos 1 * 60 * 250 = 15.000 amostras (basal)\n",
    "\n",
    "import numpy as np\n",
    "\n",
    "\n",
    "shape = (150000, 8)\n",
    "data_focus = np.random.normal(loc=0, scale=10, size=shape).astype(np.float32)\n",
    "\n",
    "shape = (15000, 8)\n",
    "data_base = np.random.normal(loc=0, scale=10, size=shape).astype(np.float32)"
   ]
  },
  {
   "cell_type": "code",
   "execution_count": 2,
   "metadata": {},
   "outputs": [
    {
     "name": "stdout",
     "output_type": "stream",
     "text": [
      "1488566.1448603985\n"
     ]
    }
   ],
   "source": [
    "# Estimando o ruído de fundo (utilizando o sinal basal)\n",
    "\n",
    "# armazena uma lista com as médias de potência para cada canal\n",
    "noise_power = []\n",
    "for channel_data in data_base.T:\n",
    "    fft_result = np.fft.fft(channel_data)\n",
    "    # densidade espectral de potência (PSD)\n",
    "    psd = np.abs(fft_result) ** 2\n",
    "    # média da potência no intervalo de tempo sem estímulo\n",
    "    base_power = np.mean(psd)\n",
    "    noise_power.append(base_power)\n",
    "# média das médias de potência de todos os canais para estimar o ruído de fundo\n",
    "estimated_background_noise = np.mean(noise_power)\n",
    "print(estimated_background_noise)"
   ]
  },
  {
   "cell_type": "code",
   "execution_count": 3,
   "metadata": {},
   "outputs": [
    {
     "name": "stdout",
     "output_type": "stream",
     "text": [
      "[[nan nan nan ... nan nan nan]\n",
      " [nan nan nan ... nan nan nan]\n",
      " [nan nan nan ... nan nan nan]\n",
      " ...\n",
      " [nan nan nan ... nan nan nan]\n",
      " [nan nan nan ... nan nan nan]\n",
      " [nan nan nan ... nan nan nan]]\n",
      "(150000, 8)\n",
      "[[-60.791798 -60.791794 -60.791775 ... -60.791798 -60.791855 -60.791862]\n",
      " [-60.79182  -60.791782 -60.79178  ... -60.791836 -60.79181  -60.791836]\n",
      " [-60.791798 -60.79181  -60.79178  ... -60.791813 -60.791813 -60.791832]\n",
      " ...\n",
      " [-60.79181  -60.791798 -60.791832 ... -60.791817 -60.791763 -60.79184 ]\n",
      " [-60.79182  -60.791832 -60.79181  ... -60.79181  -60.791847 -60.7918  ]\n",
      " [-60.79184  -60.79178  -60.791817 ... -60.791794 -60.79177  -60.791824]]\n",
      "(150000, 8)\n"
     ]
    },
    {
     "name": "stderr",
     "output_type": "stream",
     "text": [
      "/tmp/ipykernel_23641/2021880081.py:8: RuntimeWarning: invalid value encountered in log10\n",
      "  narrow_band_SNR = 10 * np.log10(target_amplitudes_adjusted / estimated_background_noise)\n"
     ]
    }
   ],
   "source": [
    "# agora vamos adaptar ambas características \n",
    "# aplicando para o nosso sinal de interesse\n",
    "\n",
    "# forçando (estragando) valor de \"estimated_background_noise\" para não sobrar valores negativos\n",
    "target_amplitudes_adjusted = data_focus - estimated_background_noise\n",
    "\n",
    "# subtraindo o ruído de fundo das amplitudes\n",
    "narrow_band_SNR = 10 * np.log10(target_amplitudes_adjusted / estimated_background_noise)\n",
    "print(narrow_band_SNR)\n",
    "print(narrow_band_SNR.shape)\n",
    "\n",
    "total_power = np.sum(target_amplitudes_adjusted)\n",
    "wide_band_SNR = 10 * np.log10(target_amplitudes_adjusted / total_power)\n",
    "print(wide_band_SNR)\n",
    "print(wide_band_SNR.shape)"
   ]
  }
 ],
 "metadata": {
  "kernelspec": {
   "display_name": "venv",
   "language": "python",
   "name": "python3"
  },
  "language_info": {
   "codemirror_mode": {
    "name": "ipython",
    "version": 3
   },
   "file_extension": ".py",
   "mimetype": "text/x-python",
   "name": "python",
   "nbconvert_exporter": "python",
   "pygments_lexer": "ipython3",
   "version": "3.10.12"
  }
 },
 "nbformat": 4,
 "nbformat_minor": 2
}
